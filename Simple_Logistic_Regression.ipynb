{
  "nbformat": 4,
  "nbformat_minor": 0,
  "metadata": {
    "colab": {
      "name": "Simple_Logistic_Regression.ipynb",
      "provenance": [],
      "authorship_tag": "ABX9TyMYOkM/M3P3HSus5yEqXHwC",
      "include_colab_link": true
    },
    "kernelspec": {
      "name": "python3",
      "display_name": "Python 3"
    },
    "language_info": {
      "name": "python"
    }
  },
  "cells": [
    {
      "cell_type": "markdown",
      "metadata": {
        "id": "view-in-github",
        "colab_type": "text"
      },
      "source": [
        "<a href=\"https://colab.research.google.com/github/aravind309/blogs/blob/main/Simple_Logistic_Regression.ipynb\" target=\"_parent\"><img src=\"https://colab.research.google.com/assets/colab-badge.svg\" alt=\"Open In Colab\"/></a>"
      ]
    },
    {
      "cell_type": "markdown",
      "source": [
        "\n",
        "# Importing Libraries"
      ],
      "metadata": {
        "id": "VqTzQqud9fAJ"
      }
    },
    {
      "cell_type": "code",
      "execution_count": 24,
      "metadata": {
        "id": "mzf-Pogr36Yk"
      },
      "outputs": [],
      "source": [
        "import numpy as np\n",
        "from sklearn.linear_model import LogisticRegression"
      ]
    },
    {
      "cell_type": "markdown",
      "source": [
        "NumPy is used to perform a  variety of mathematical operations on arrays. It adds powerful data structures to Python that guarantee efficient calculations with arrays and matrices.\n",
        "\n",
        "Scikit-learn (Sklearn) is the most useful and robust library for machine learning in Python. It provides a selection of efficient tools for machine learning and statistical modeling including classification, regression, clustering and dimensionality reduction via a consistence interface in Python."
      ],
      "metadata": {
        "id": "Ra_aKZB1oJLn"
      }
    },
    {
      "cell_type": "markdown",
      "source": [
        "# Dataset"
      ],
      "metadata": {
        "id": "87SMLytplnSR"
      }
    },
    {
      "cell_type": "markdown",
      "source": [
        "\n",
        "**Input and Output train dataset**\n",
        "\n",
        "We will usualy have the data in input and for the purpose of this example, lets create arrays for the input (X) and output (y). Both input and output are numpy arrays. The array X is required to be two-dimensional. It should have one column for each input, and the number of rows should be equal to the number of observations. To make x two-dimensional, you apply .reshape() with the arguments -1 \n",
        "\n",
        "X has two dimensions:\n",
        "1) One column for a single input\n",
        "2) Ten rows, each corresponding to one observation\n",
        "y is one-dimensional with ten items"
      ],
      "metadata": {
        "id": "GbjhqlfpEJXU"
      }
    },
    {
      "cell_type": "code",
      "source": [
        "X = np.arange(10).reshape(-1, 1)\n",
        "X"
      ],
      "metadata": {
        "colab": {
          "base_uri": "https://localhost:8080/"
        },
        "id": "2Q2-_HwU4wTK",
        "outputId": "be70dc03-e3b2-4b47-e3ff-4835cfd6ec32"
      },
      "execution_count": 25,
      "outputs": [
        {
          "output_type": "execute_result",
          "data": {
            "text/plain": [
              "array([[0],\n",
              "       [1],\n",
              "       [2],\n",
              "       [3],\n",
              "       [4],\n",
              "       [5],\n",
              "       [6],\n",
              "       [7],\n",
              "       [8],\n",
              "       [9]])"
            ]
          },
          "metadata": {},
          "execution_count": 25
        }
      ]
    },
    {
      "cell_type": "code",
      "source": [
        "y = np.array([0, 0, 0, 0, 0, 1, 1, 1, 1, 1])\n",
        "y"
      ],
      "metadata": {
        "colab": {
          "base_uri": "https://localhost:8080/"
        },
        "id": "OLq7OQMe5Dem",
        "outputId": "3933d5be-571a-43f5-d4a5-97c4b6502314"
      },
      "execution_count": 26,
      "outputs": [
        {
          "output_type": "execute_result",
          "data": {
            "text/plain": [
              "array([0, 0, 0, 0, 0, 1, 1, 1, 1, 1])"
            ]
          },
          "metadata": {},
          "execution_count": 26
        }
      ]
    },
    {
      "cell_type": "markdown",
      "source": [
        "# Training Model"
      ],
      "metadata": {
        "id": "jIxatItPleWn"
      }
    },
    {
      "cell_type": "markdown",
      "source": [
        "\n",
        "**Creating a Model and train it**\n",
        "\n",
        "We create a model for logistic regression by creating a instance of LogisticRegression().In paramters solver is a string ('liblinear' by default) that decides what solver to use for fitting the model. Other options are 'newton-cg', 'lbfgs', 'sag', and 'saga'.\n",
        "\n",
        "We should carefully match the solver and regularization.\n",
        "\n",
        "*  'liblinear' solver doesn’t work without regularization.\n",
        "*   'newton-cg', 'sag', 'saga', and 'lbfgs' don’t support L1 regularization.\n",
        "*   'saga' is the only solver that supports elastic-net regularization.\n",
        "\n",
        "Post the model creation we use *.fit()* to fit the input data X and output data y.\n",
        "\n"
      ],
      "metadata": {
        "id": "Nzr1qONjEdyX"
      }
    },
    {
      "cell_type": "code",
      "source": [
        "model = LogisticRegression(solver='liblinear', random_state=0)\n",
        "model.fit(X, y)"
      ],
      "metadata": {
        "id": "8cqt8N455zL6",
        "colab": {
          "base_uri": "https://localhost:8080/"
        },
        "outputId": "ef4c43e2-b5fb-4d22-ef57-2b53d2164773"
      },
      "execution_count": 27,
      "outputs": [
        {
          "output_type": "execute_result",
          "data": {
            "text/plain": [
              "LogisticRegression(random_state=0, solver='liblinear')"
            ]
          },
          "metadata": {},
          "execution_count": 27
        }
      ]
    },
    {
      "cell_type": "markdown",
      "source": [
        "#  Prediction on test data"
      ],
      "metadata": {
        "id": "j67jlBlCmdQw"
      }
    },
    {
      "cell_type": "markdown",
      "source": [
        "Above trained regression will be used to predict the output on test data. Here our test data is [[-1], [0], [3], [8], [10], [11]]. This functions returns the predicted output as 1D array"
      ],
      "metadata": {
        "id": "2mPH3qknFtqZ"
      }
    },
    {
      "cell_type": "code",
      "source": [
        "model.predict( [[-1], [0], [3], [8], [10], [11]])"
      ],
      "metadata": {
        "colab": {
          "base_uri": "https://localhost:8080/"
        },
        "id": "oY4b21ge6mHs",
        "outputId": "9ff8b121-95fb-4c2c-8d45-3758830df40a"
      },
      "execution_count": 28,
      "outputs": [
        {
          "output_type": "execute_result",
          "data": {
            "text/plain": [
              "array([0, 0, 1, 1, 1, 1])"
            ]
          },
          "metadata": {},
          "execution_count": 28
        }
      ]
    },
    {
      "cell_type": "markdown",
      "source": [
        "# Printing Probabilities"
      ],
      "metadata": {
        "id": "VYE7dgNInatH"
      }
    },
    {
      "cell_type": "markdown",
      "source": [
        "The first column is the probability of the predicted output being zero, that is 1 - 𝑝(𝑥). The second column is the probability that the output is one, or 𝑝(𝑥)"
      ],
      "metadata": {
        "id": "-s2hGh0roB6u"
      }
    },
    {
      "cell_type": "code",
      "source": [
        "# Train Data \n",
        "model.predict_proba(X)"
      ],
      "metadata": {
        "colab": {
          "base_uri": "https://localhost:8080/"
        },
        "id": "3BhWuW6n7CRG",
        "outputId": "4731c950-03a5-40dc-ec48-b7cac0c05560"
      },
      "execution_count": 29,
      "outputs": [
        {
          "output_type": "execute_result",
          "data": {
            "text/plain": [
              "array([[0.76881371, 0.23118629],\n",
              "       [0.68800809, 0.31199191],\n",
              "       [0.59387837, 0.40612163],\n",
              "       [0.49230569, 0.50769431],\n",
              "       [0.39136427, 0.60863573],\n",
              "       [0.29893328, 0.70106672],\n",
              "       [0.22042624, 0.77957376],\n",
              "       [0.15789351, 0.84210649],\n",
              "       [0.11058424, 0.88941576],\n",
              "       [0.07616801, 0.92383199]])"
            ]
          },
          "metadata": {},
          "execution_count": 29
        }
      ]
    },
    {
      "cell_type": "code",
      "source": [
        "# Test Data\n",
        "model.predict_proba([[-1], [0], [3], [8], [10], [11]])"
      ],
      "metadata": {
        "colab": {
          "base_uri": "https://localhost:8080/"
        },
        "id": "CkR0v_bq8RAG",
        "outputId": "0aadbcc5-8b82-4494-c939-26a186aee504"
      },
      "execution_count": 30,
      "outputs": [
        {
          "output_type": "execute_result",
          "data": {
            "text/plain": [
              "array([[0.83374798, 0.16625202],\n",
              "       [0.76881371, 0.23118629],\n",
              "       [0.49230569, 0.50769431],\n",
              "       [0.11058424, 0.88941576],\n",
              "       [0.05183858, 0.94816142],\n",
              "       [0.0349861 , 0.9650139 ]])"
            ]
          },
          "metadata": {},
          "execution_count": 30
        }
      ]
    }
  ]
}