{
  "nbformat": 4,
  "nbformat_minor": 0,
  "metadata": {
    "colab": {
      "name": "Advanced_Logistic_Regression.ipynb",
      "provenance": [],
      "toc_visible": true,
      "authorship_tag": "ABX9TyMg2ybNi34s4ZGp2c5IEequ",
      "include_colab_link": true
    },
    "kernelspec": {
      "name": "python3",
      "display_name": "Python 3"
    },
    "language_info": {
      "name": "python"
    }
  },
  "cells": [
    {
      "cell_type": "markdown",
      "metadata": {
        "id": "view-in-github",
        "colab_type": "text"
      },
      "source": [
        "<a href=\"https://colab.research.google.com/github/aravind309/blogs/blob/main/Advanced_Logistic_Regression.ipynb\" target=\"_parent\"><img src=\"https://colab.research.google.com/assets/colab-badge.svg\" alt=\"Open In Colab\"/></a>"
      ]
    },
    {
      "cell_type": "markdown",
      "source": [
        "# Logistic Regression"
      ],
      "metadata": {
        "id": "FSkYBo4KszDC"
      }
    },
    {
      "cell_type": "markdown",
      "source": [
        "Logistic regression is a Supervised Machine Learning model that in its basic form uses a logistic function to model a binary dependent variable,\n",
        "\n",
        "Scenario taken here is to determine if the users will purchase newly launched product or not. Dataset contains information of users from a companies database. It contains information about UserID, Gender, Age, EstimatedSalary, Purchased. "
      ],
      "metadata": {
        "id": "1p9g9hlCKGVR"
      }
    },
    {
      "cell_type": "markdown",
      "source": [
        "# Importing Libraries"
      ],
      "metadata": {
        "id": "RVLl45aPtAd6"
      }
    },
    {
      "cell_type": "markdown",
      "source": [
        "***NumPy*** is used to perform a  variety of mathematical operations on arrays. It adds powerful data structures to Python that guarantee efficient calculations with arrays and matrices.\n",
        "\n",
        "***Scikit-learn (Sklearn)*** is the most useful and robust library for machine learning in Python. It provides a selection of efficient tools for machine learning and statistical modeling including classification, regression, clustering and dimensionality reduction via a consistence interface in Python.\n",
        "\n",
        "***Pandas*** is a fast, powerful, flexible and easy to use open source data analysis and manipulation tool,\n",
        "built on top of the Python programming language.\n",
        "\n",
        "***Matplotlib*** is a cross-platform, data visualization and graphical plotting library for Python and its numerical extension NumPy. As such, it offers a viable open source alternative to MATLAB. \n",
        "\n",
        "\n"
      ],
      "metadata": {
        "id": "VqTzQqud9fAJ"
      }
    },
    {
      "cell_type": "code",
      "execution_count": 26,
      "metadata": {
        "id": "mzf-Pogr36Yk"
      },
      "outputs": [],
      "source": [
        "import numpy as np\n",
        "import pandas as pd\n",
        "import matplotlib.pyplot as plt\n",
        "%matplotlib inline\n",
        "\n",
        "from sklearn.model_selection import train_test_split\n",
        "from sklearn.preprocessing import StandardScaler\n",
        "from sklearn.linear_model import LogisticRegression"
      ]
    },
    {
      "cell_type": "markdown",
      "source": [
        "# Importing Dataset"
      ],
      "metadata": {
        "id": "wJDHMXM8tfKv"
      }
    },
    {
      "cell_type": "markdown",
      "source": [
        "Using pandas library we are importing dataset from publicly available google drive link"
      ],
      "metadata": {
        "id": "GbjhqlfpEJXU"
      }
    },
    {
      "cell_type": "code",
      "source": [
        "url = 'https://drive.google.com/file/d/1Upqoz2gIAYq6LByD7YjHU-9_9K4EOhOh/view'\n",
        "path = 'https://drive.google.com/uc?export=download&id='+url.split('/')[-2]\n",
        "dataset = pd.read_csv(path)\n",
        "dataset"
      ],
      "metadata": {
        "colab": {
          "base_uri": "https://localhost:8080/",
          "height": 423
        },
        "id": "2Q2-_HwU4wTK",
        "outputId": "3cc0bd05-9460-48d9-91e6-e789805d1b3a"
      },
      "execution_count": 55,
      "outputs": [
        {
          "output_type": "execute_result",
          "data": {
            "text/html": [
              "<div>\n",
              "<style scoped>\n",
              "    .dataframe tbody tr th:only-of-type {\n",
              "        vertical-align: middle;\n",
              "    }\n",
              "\n",
              "    .dataframe tbody tr th {\n",
              "        vertical-align: top;\n",
              "    }\n",
              "\n",
              "    .dataframe thead th {\n",
              "        text-align: right;\n",
              "    }\n",
              "</style>\n",
              "<table border=\"1\" class=\"dataframe\">\n",
              "  <thead>\n",
              "    <tr style=\"text-align: right;\">\n",
              "      <th></th>\n",
              "      <th>User ID</th>\n",
              "      <th>Gender</th>\n",
              "      <th>Age</th>\n",
              "      <th>EstimatedSalary</th>\n",
              "      <th>Purchased</th>\n",
              "    </tr>\n",
              "  </thead>\n",
              "  <tbody>\n",
              "    <tr>\n",
              "      <th>0</th>\n",
              "      <td>15624510</td>\n",
              "      <td>Male</td>\n",
              "      <td>19</td>\n",
              "      <td>19000</td>\n",
              "      <td>0</td>\n",
              "    </tr>\n",
              "    <tr>\n",
              "      <th>1</th>\n",
              "      <td>15810944</td>\n",
              "      <td>Male</td>\n",
              "      <td>35</td>\n",
              "      <td>20000</td>\n",
              "      <td>0</td>\n",
              "    </tr>\n",
              "    <tr>\n",
              "      <th>2</th>\n",
              "      <td>15668575</td>\n",
              "      <td>Female</td>\n",
              "      <td>26</td>\n",
              "      <td>43000</td>\n",
              "      <td>0</td>\n",
              "    </tr>\n",
              "    <tr>\n",
              "      <th>3</th>\n",
              "      <td>15603246</td>\n",
              "      <td>Female</td>\n",
              "      <td>27</td>\n",
              "      <td>57000</td>\n",
              "      <td>0</td>\n",
              "    </tr>\n",
              "    <tr>\n",
              "      <th>4</th>\n",
              "      <td>15804002</td>\n",
              "      <td>Male</td>\n",
              "      <td>19</td>\n",
              "      <td>76000</td>\n",
              "      <td>0</td>\n",
              "    </tr>\n",
              "    <tr>\n",
              "      <th>...</th>\n",
              "      <td>...</td>\n",
              "      <td>...</td>\n",
              "      <td>...</td>\n",
              "      <td>...</td>\n",
              "      <td>...</td>\n",
              "    </tr>\n",
              "    <tr>\n",
              "      <th>395</th>\n",
              "      <td>15691863</td>\n",
              "      <td>Female</td>\n",
              "      <td>46</td>\n",
              "      <td>41000</td>\n",
              "      <td>1</td>\n",
              "    </tr>\n",
              "    <tr>\n",
              "      <th>396</th>\n",
              "      <td>15706071</td>\n",
              "      <td>Male</td>\n",
              "      <td>51</td>\n",
              "      <td>23000</td>\n",
              "      <td>1</td>\n",
              "    </tr>\n",
              "    <tr>\n",
              "      <th>397</th>\n",
              "      <td>15654296</td>\n",
              "      <td>Female</td>\n",
              "      <td>50</td>\n",
              "      <td>20000</td>\n",
              "      <td>1</td>\n",
              "    </tr>\n",
              "    <tr>\n",
              "      <th>398</th>\n",
              "      <td>15755018</td>\n",
              "      <td>Male</td>\n",
              "      <td>36</td>\n",
              "      <td>33000</td>\n",
              "      <td>0</td>\n",
              "    </tr>\n",
              "    <tr>\n",
              "      <th>399</th>\n",
              "      <td>15594041</td>\n",
              "      <td>Female</td>\n",
              "      <td>49</td>\n",
              "      <td>36000</td>\n",
              "      <td>1</td>\n",
              "    </tr>\n",
              "  </tbody>\n",
              "</table>\n",
              "<p>400 rows × 5 columns</p>\n",
              "</div>"
            ],
            "text/plain": [
              "      User ID  Gender  Age  EstimatedSalary  Purchased\n",
              "0    15624510    Male   19            19000          0\n",
              "1    15810944    Male   35            20000          0\n",
              "2    15668575  Female   26            43000          0\n",
              "3    15603246  Female   27            57000          0\n",
              "4    15804002    Male   19            76000          0\n",
              "..        ...     ...  ...              ...        ...\n",
              "395  15691863  Female   46            41000          1\n",
              "396  15706071    Male   51            23000          1\n",
              "397  15654296  Female   50            20000          1\n",
              "398  15755018    Male   36            33000          0\n",
              "399  15594041  Female   49            36000          1\n",
              "\n",
              "[400 rows x 5 columns]"
            ]
          },
          "metadata": {},
          "execution_count": 55
        }
      ]
    },
    {
      "cell_type": "markdown",
      "source": [
        "# Dataset Exploration"
      ],
      "metadata": {
        "id": "JIlH15ykuG9L"
      }
    },
    {
      "cell_type": "markdown",
      "source": [
        "Now let's explore our dataset a bit. We can also see the statiscal data with the help of imported libraries\n",
        "\n",
        "\n",
        "\n",
        "1.   **Shape of data**  **:**  dataset.shape\n",
        "2.   **Visualize data**  **:**  dataset.head()\n",
        "3.   **Statiscal data**  **:**  dataset.describe()\n",
        "\n",
        "\n",
        "\n",
        "\n",
        "\n"
      ],
      "metadata": {
        "id": "mRaxurggM-00"
      }
    },
    {
      "cell_type": "code",
      "source": [
        "dataset.shape"
      ],
      "metadata": {
        "colab": {
          "base_uri": "https://localhost:8080/"
        },
        "id": "OLq7OQMe5Dem",
        "outputId": "878934f7-a170-4341-8e59-0b6642247044"
      },
      "execution_count": 3,
      "outputs": [
        {
          "output_type": "execute_result",
          "data": {
            "text/plain": [
              "(400, 5)"
            ]
          },
          "metadata": {},
          "execution_count": 3
        }
      ]
    },
    {
      "cell_type": "code",
      "source": [
        "dataset.head()"
      ],
      "metadata": {
        "colab": {
          "base_uri": "https://localhost:8080/",
          "height": 206
        },
        "id": "vSuROgDfNvxs",
        "outputId": "cecb2547-970a-4a12-f88f-8fdc8712d645"
      },
      "execution_count": 4,
      "outputs": [
        {
          "output_type": "execute_result",
          "data": {
            "text/html": [
              "<div>\n",
              "<style scoped>\n",
              "    .dataframe tbody tr th:only-of-type {\n",
              "        vertical-align: middle;\n",
              "    }\n",
              "\n",
              "    .dataframe tbody tr th {\n",
              "        vertical-align: top;\n",
              "    }\n",
              "\n",
              "    .dataframe thead th {\n",
              "        text-align: right;\n",
              "    }\n",
              "</style>\n",
              "<table border=\"1\" class=\"dataframe\">\n",
              "  <thead>\n",
              "    <tr style=\"text-align: right;\">\n",
              "      <th></th>\n",
              "      <th>User ID</th>\n",
              "      <th>Gender</th>\n",
              "      <th>Age</th>\n",
              "      <th>EstimatedSalary</th>\n",
              "      <th>Purchased</th>\n",
              "    </tr>\n",
              "  </thead>\n",
              "  <tbody>\n",
              "    <tr>\n",
              "      <th>0</th>\n",
              "      <td>15624510</td>\n",
              "      <td>Male</td>\n",
              "      <td>19</td>\n",
              "      <td>19000</td>\n",
              "      <td>0</td>\n",
              "    </tr>\n",
              "    <tr>\n",
              "      <th>1</th>\n",
              "      <td>15810944</td>\n",
              "      <td>Male</td>\n",
              "      <td>35</td>\n",
              "      <td>20000</td>\n",
              "      <td>0</td>\n",
              "    </tr>\n",
              "    <tr>\n",
              "      <th>2</th>\n",
              "      <td>15668575</td>\n",
              "      <td>Female</td>\n",
              "      <td>26</td>\n",
              "      <td>43000</td>\n",
              "      <td>0</td>\n",
              "    </tr>\n",
              "    <tr>\n",
              "      <th>3</th>\n",
              "      <td>15603246</td>\n",
              "      <td>Female</td>\n",
              "      <td>27</td>\n",
              "      <td>57000</td>\n",
              "      <td>0</td>\n",
              "    </tr>\n",
              "    <tr>\n",
              "      <th>4</th>\n",
              "      <td>15804002</td>\n",
              "      <td>Male</td>\n",
              "      <td>19</td>\n",
              "      <td>76000</td>\n",
              "      <td>0</td>\n",
              "    </tr>\n",
              "  </tbody>\n",
              "</table>\n",
              "</div>"
            ],
            "text/plain": [
              "    User ID  Gender  Age  EstimatedSalary  Purchased\n",
              "0  15624510    Male   19            19000          0\n",
              "1  15810944    Male   35            20000          0\n",
              "2  15668575  Female   26            43000          0\n",
              "3  15603246  Female   27            57000          0\n",
              "4  15804002    Male   19            76000          0"
            ]
          },
          "metadata": {},
          "execution_count": 4
        }
      ]
    },
    {
      "cell_type": "code",
      "source": [
        "dataset.describe()"
      ],
      "metadata": {
        "colab": {
          "base_uri": "https://localhost:8080/",
          "height": 300
        },
        "id": "trU0VpxdO3kX",
        "outputId": "adce5b14-5ac4-48af-b98f-36375178a453"
      },
      "execution_count": 5,
      "outputs": [
        {
          "output_type": "execute_result",
          "data": {
            "text/html": [
              "<div>\n",
              "<style scoped>\n",
              "    .dataframe tbody tr th:only-of-type {\n",
              "        vertical-align: middle;\n",
              "    }\n",
              "\n",
              "    .dataframe tbody tr th {\n",
              "        vertical-align: top;\n",
              "    }\n",
              "\n",
              "    .dataframe thead th {\n",
              "        text-align: right;\n",
              "    }\n",
              "</style>\n",
              "<table border=\"1\" class=\"dataframe\">\n",
              "  <thead>\n",
              "    <tr style=\"text-align: right;\">\n",
              "      <th></th>\n",
              "      <th>User ID</th>\n",
              "      <th>Age</th>\n",
              "      <th>EstimatedSalary</th>\n",
              "      <th>Purchased</th>\n",
              "    </tr>\n",
              "  </thead>\n",
              "  <tbody>\n",
              "    <tr>\n",
              "      <th>count</th>\n",
              "      <td>4.000000e+02</td>\n",
              "      <td>400.000000</td>\n",
              "      <td>400.000000</td>\n",
              "      <td>400.000000</td>\n",
              "    </tr>\n",
              "    <tr>\n",
              "      <th>mean</th>\n",
              "      <td>1.569154e+07</td>\n",
              "      <td>37.655000</td>\n",
              "      <td>69742.500000</td>\n",
              "      <td>0.357500</td>\n",
              "    </tr>\n",
              "    <tr>\n",
              "      <th>std</th>\n",
              "      <td>7.165832e+04</td>\n",
              "      <td>10.482877</td>\n",
              "      <td>34096.960282</td>\n",
              "      <td>0.479864</td>\n",
              "    </tr>\n",
              "    <tr>\n",
              "      <th>min</th>\n",
              "      <td>1.556669e+07</td>\n",
              "      <td>18.000000</td>\n",
              "      <td>15000.000000</td>\n",
              "      <td>0.000000</td>\n",
              "    </tr>\n",
              "    <tr>\n",
              "      <th>25%</th>\n",
              "      <td>1.562676e+07</td>\n",
              "      <td>29.750000</td>\n",
              "      <td>43000.000000</td>\n",
              "      <td>0.000000</td>\n",
              "    </tr>\n",
              "    <tr>\n",
              "      <th>50%</th>\n",
              "      <td>1.569434e+07</td>\n",
              "      <td>37.000000</td>\n",
              "      <td>70000.000000</td>\n",
              "      <td>0.000000</td>\n",
              "    </tr>\n",
              "    <tr>\n",
              "      <th>75%</th>\n",
              "      <td>1.575036e+07</td>\n",
              "      <td>46.000000</td>\n",
              "      <td>88000.000000</td>\n",
              "      <td>1.000000</td>\n",
              "    </tr>\n",
              "    <tr>\n",
              "      <th>max</th>\n",
              "      <td>1.581524e+07</td>\n",
              "      <td>60.000000</td>\n",
              "      <td>150000.000000</td>\n",
              "      <td>1.000000</td>\n",
              "    </tr>\n",
              "  </tbody>\n",
              "</table>\n",
              "</div>"
            ],
            "text/plain": [
              "            User ID         Age  EstimatedSalary   Purchased\n",
              "count  4.000000e+02  400.000000       400.000000  400.000000\n",
              "mean   1.569154e+07   37.655000     69742.500000    0.357500\n",
              "std    7.165832e+04   10.482877     34096.960282    0.479864\n",
              "min    1.556669e+07   18.000000     15000.000000    0.000000\n",
              "25%    1.562676e+07   29.750000     43000.000000    0.000000\n",
              "50%    1.569434e+07   37.000000     70000.000000    0.000000\n",
              "75%    1.575036e+07   46.000000     88000.000000    1.000000\n",
              "max    1.581524e+07   60.000000    150000.000000    1.000000"
            ]
          },
          "metadata": {},
          "execution_count": 5
        }
      ]
    },
    {
      "cell_type": "markdown",
      "source": [
        "# Dataset Preperation"
      ],
      "metadata": {
        "id": "gaSPRUiEv2AS"
      }
    },
    {
      "cell_type": "markdown",
      "source": [
        "To predict whether a user will purchase the product or not, we find out the relationship between Age and Estimated Salary. Here User ID and Gender are not important factors for finding out this\n",
        "\n",
        "Splitting the dataset to train and test. 75% of data is used for training the model and 25% of it is used to test the performance of our model."
      ],
      "metadata": {
        "id": "bbu6PnT8QIpq"
      }
    },
    {
      "cell_type": "code",
      "source": [
        "X = dataset.iloc[:, [2, 3]].values\n",
        "y = dataset.iloc[:, 4].values\n",
        "from sklearn.model_selection import train_test_split\n",
        "x_train, x_test, y_train, y_test = train_test_split(X, y, test_size=0.25, random_state=0)\n",
        "print(\"Shape of X_train : \", x_train.shape)\n",
        "print(\"Shape of X_test : \", x_test.shape)"
      ],
      "metadata": {
        "id": "6U5hfQfiQFzD",
        "colab": {
          "base_uri": "https://localhost:8080/"
        },
        "outputId": "763a47a9-a857-4466-f533-990a7e534e19"
      },
      "execution_count": 17,
      "outputs": [
        {
          "output_type": "stream",
          "name": "stdout",
          "text": [
            "Shape of X_train :  (300, 2)\n",
            "Shape of X_test :  (100, 2)\n"
          ]
        }
      ]
    },
    {
      "cell_type": "markdown",
      "source": [
        " **Normalizing Data**\n",
        "\n",
        "We can see that Age and Estimated Salary are in different ranges and salary will be dominating age feature.\n",
        "\n",
        "To overcome this we need to need to scale using Standard Scaler. Post scaling we can see that Age and Estimated salary features values are sacled and now there in the -1 to 1. B doing so we are achieving that each feature will contribute equally in decision making."
      ],
      "metadata": {
        "id": "SEvDU-Z-_Qdb"
      }
    },
    {
      "cell_type": "code",
      "source": [
        "sc_x = StandardScaler()\n",
        "x_train = sc_x.fit_transform(x_train) \n",
        "x_test = sc_x.transform(x_test)\n",
        "\n",
        "print (\"Printing the first 10 rows of Normalized data \\n\",x_train[0:10, :])"
      ],
      "metadata": {
        "colab": {
          "base_uri": "https://localhost:8080/"
        },
        "id": "Z7spqwXsAecO",
        "outputId": "94682223-5ed1-4bee-8f2f-088d0dbac678"
      },
      "execution_count": 48,
      "outputs": [
        {
          "output_type": "stream",
          "name": "stdout",
          "text": [
            "Printing the first 10 rows of Normalized data \n",
            " [[ 0.58164944 -0.88670699]\n",
            " [-0.60673761  1.46173768]\n",
            " [-0.01254409 -0.5677824 ]\n",
            " [-0.60673761  1.89663484]\n",
            " [ 1.37390747 -1.40858358]\n",
            " [ 1.47293972  0.99784738]\n",
            " [ 0.08648817 -0.79972756]\n",
            " [-0.01254409 -0.24885782]\n",
            " [-0.21060859 -0.5677824 ]\n",
            " [-0.21060859 -0.19087153]]\n"
          ]
        }
      ]
    },
    {
      "cell_type": "markdown",
      "source": [
        "# Training Model"
      ],
      "metadata": {
        "id": "Fp30wNpiwJGJ"
      }
    },
    {
      "cell_type": "markdown",
      "source": [
        "\n",
        "**Fit train data to Logistic Regression curve**\n",
        "\n",
        "Here first we initiate the instance of LogisticRegression and then pass training data to .fit meathod."
      ],
      "metadata": {
        "id": "Nzr1qONjEdyX"
      }
    },
    {
      "cell_type": "code",
      "source": [
        "classifier = LogisticRegression(random_state = 42)\n",
        "classifier.fit(x_train, y_train)"
      ],
      "metadata": {
        "colab": {
          "base_uri": "https://localhost:8080/"
        },
        "id": "8cqt8N455zL6",
        "outputId": "2fe710b3-ea4d-488c-da2f-9ac052f1949e"
      },
      "execution_count": 42,
      "outputs": [
        {
          "output_type": "execute_result",
          "data": {
            "text/plain": [
              "LogisticRegression(random_state=42)"
            ]
          },
          "metadata": {},
          "execution_count": 42
        }
      ]
    },
    {
      "cell_type": "markdown",
      "source": [
        "# Prediction on Test Data"
      ],
      "metadata": {
        "id": "jhb1S8nhwXXW"
      }
    },
    {
      "cell_type": "markdown",
      "source": [
        "Above trained regression will be used to predict the output on test data. y_pred is a numpy array that containes prediction of test input. We can see the numpy array has 0 indicating user didn't buy the product and 1 indicating that user purchased product"
      ],
      "metadata": {
        "id": "2mPH3qknFtqZ"
      }
    },
    {
      "cell_type": "code",
      "source": [
        "y_pred = classifier.predict(x_test)\n",
        "y_pred"
      ],
      "metadata": {
        "colab": {
          "base_uri": "https://localhost:8080/"
        },
        "id": "oY4b21ge6mHs",
        "outputId": "67cd7b4f-3b04-4e5f-a570-f8eccf3559e8"
      },
      "execution_count": 45,
      "outputs": [
        {
          "output_type": "execute_result",
          "data": {
            "text/plain": [
              "array([0, 0, 0, 0, 0, 0, 0, 1, 0, 1, 0, 0, 0, 0, 0, 0, 0, 0, 1, 0, 0, 1,\n",
              "       0, 1, 0, 1, 0, 0, 0, 0, 0, 0, 1, 0, 0, 0, 0, 0, 0, 1, 0, 0, 0, 0,\n",
              "       1, 0, 0, 1, 0, 1, 1, 0, 0, 0, 1, 0, 0, 0, 0, 0, 0, 1, 0, 0, 0, 1,\n",
              "       0, 0, 0, 0, 1, 0, 0, 0, 0, 0, 1, 0, 1, 1, 1, 1, 0, 0, 1, 1, 0, 1,\n",
              "       0, 0, 0, 1, 0, 0, 0, 0, 0, 0, 1, 1])"
            ]
          },
          "metadata": {},
          "execution_count": 45
        }
      ]
    },
    {
      "cell_type": "markdown",
      "source": [
        "# Priting the Logistic Regression Cofficients"
      ],
      "metadata": {
        "id": "lUQslsRyx5zR"
      }
    },
    {
      "cell_type": "markdown",
      "source": [
        "coef_array of shape (n_features, )\n",
        "Estimated coefficients for the logistic regression problem. \n",
        "\n",
        "intercept_ It is the Independent term in the linear model. In other words it is the constant number we added to our Input.\n"
      ],
      "metadata": {
        "id": "zmiZV2FGGFOn"
      }
    },
    {
      "cell_type": "code",
      "source": [
        "print(\"Weights : \", classifier.coef_)"
      ],
      "metadata": {
        "colab": {
          "base_uri": "https://localhost:8080/"
        },
        "id": "3BhWuW6n7CRG",
        "outputId": "b5b7da24-d107-4107-cf86-f6f4f148232d"
      },
      "execution_count": 46,
      "outputs": [
        {
          "output_type": "stream",
          "name": "stdout",
          "text": [
            "Weights :  [[2.07669377 1.1102991 ]]\n"
          ]
        }
      ]
    },
    {
      "cell_type": "code",
      "source": [
        "print(\" Intercept : \", classifier.intercept_)"
      ],
      "metadata": {
        "colab": {
          "base_uri": "https://localhost:8080/"
        },
        "id": "CkR0v_bq8RAG",
        "outputId": "9995deba-8b04-45ff-80ee-6da637f79a8d"
      },
      "execution_count": 47,
      "outputs": [
        {
          "output_type": "stream",
          "name": "stdout",
          "text": [
            " Intercept :  [-0.9523224]\n"
          ]
        }
      ]
    },
    {
      "cell_type": "markdown",
      "source": [
        "# Evaluation Metrics"
      ],
      "metadata": {
        "id": "CPK6_os6yCsb"
      }
    },
    {
      "cell_type": "markdown",
      "source": [
        "Here we are evaluating our logistic regression model using confusion matrix and accuracy.\n",
        "\n",
        "Accuracy is defined as % of total predictions that are predicted correctly.\n",
        "\n",
        "**Confusion Matrix**\n",
        "A confusion matrix is a table that is often used to describe the performance of a classification model (or \"classifier\") on test data for which the true values are known.\n",
        "\n",
        "\n",
        "\n",
        "*   true positives (TP): These are cases in which we predicted yes (they have the disease), and they do have the disease.\n",
        "*   true negatives (TN): We predicted no, and they don't have the disease.\n",
        "*   false positives (FP): We predicted yes, but they don't actually have the disease. (Also known as a \"Type I error.\")\n",
        "*   false negatives (FN): We predicted no, but they actually do have the disease. (Also known as a \"Type II error.\")\n",
        "\n",
        "\n",
        "![image.png](data:image/png;base64,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)"
      ],
      "metadata": {
        "id": "IH1ZRWuLRviH"
      }
    },
    {
      "cell_type": "code",
      "source": [
        "from sklearn.metrics import confusion_matrix\n",
        "cm = confusion_matrix(y_test, y_pred)\n",
        "print (\"Confusion Matrix : \\n\", cm)"
      ],
      "metadata": {
        "colab": {
          "base_uri": "https://localhost:8080/"
        },
        "id": "Ibd6JWalRv0D",
        "outputId": "41b72284-b858-46b0-a6b8-9219ce27e2d0"
      },
      "execution_count": 51,
      "outputs": [
        {
          "output_type": "stream",
          "name": "stdout",
          "text": [
            "Confusion Matrix : \n",
            " [[65  3]\n",
            " [ 8 24]]\n"
          ]
        }
      ]
    },
    {
      "cell_type": "code",
      "source": [
        "from sklearn.metrics import accuracy_score\n",
        "print (\"Accuracy : \", accuracy_score(y_test, y_pred))"
      ],
      "metadata": {
        "colab": {
          "base_uri": "https://localhost:8080/"
        },
        "id": "V9neHkN_JZD_",
        "outputId": "c248aac9-2231-42e1-a7e9-4b34c1fa4a87"
      },
      "execution_count": 53,
      "outputs": [
        {
          "output_type": "stream",
          "name": "stdout",
          "text": [
            "Accuracy :  0.89\n"
          ]
        }
      ]
    },
    {
      "cell_type": "markdown",
      "source": [
        "# Data Visualization"
      ],
      "metadata": {
        "id": "Lhx8xZBAPRys"
      }
    },
    {
      "cell_type": "markdown",
      "source": [
        "Here we are trying to visualize the test data predictions. All the circles represents the groud truth(Red indicates the user didn't purchase while Blue indicates that user purchased).We could see a line seperating the entire region into two regions which is nothing but our prediction model. Red region indicates that any user in this region will not buy and Green region indicates that any user in this region will buy the newly launched products. "
      ],
      "metadata": {
        "id": "-A6eMbN8IKLm"
      }
    },
    {
      "cell_type": "code",
      "source": [
        "from matplotlib.colors import ListedColormap\n",
        "X_set, y_set = x_test, y_test\n",
        "X1, X2 = np.meshgrid(np.arange(start = X_set[:, 0].min() - 1,\n",
        "\t\t\t\t\t\t\tstop = X_set[:, 0].max() + 1, step = 0.01),\n",
        "\t\t\t\t\tnp.arange(start = X_set[:, 1].min() - 1,\n",
        "\t\t\t\t\t\t\tstop = X_set[:, 1].max() + 1, step = 0.01))\n",
        "\n",
        "plt.contourf(X1, X2, classifier.predict(\n",
        "\t\t\tnp.array([X1.ravel(), X2.ravel()]).T).reshape(\n",
        "\t\t\tX1.shape), alpha = 0.75, cmap = ListedColormap(('red', 'green')))\n",
        "\n",
        "plt.xlim(X1.min(), X1.max())\n",
        "plt.ylim(X2.min(), X2.max())\n",
        "\n",
        "for i, j in enumerate(np.unique(y_set)):\n",
        "\tplt.scatter(X_set[y_set == j, 0], X_set[y_set == j, 1],\n",
        "\t\t\t\tc = ListedColormap(('red', 'green'))(i), label = j)\n",
        "\t\n",
        "plt.title('Classifier (Test set)')\n",
        "plt.xlabel('Age')\n",
        "plt.ylabel('Estimated Salary')\n",
        "plt.legend()\n",
        "plt.show()\n"
      ],
      "metadata": {
        "colab": {
          "base_uri": "https://localhost:8080/",
          "height": 350
        },
        "id": "1YeCjiMYJq7i",
        "outputId": "e0b13f7f-d663-45f0-9fd5-e2df5858edf9"
      },
      "execution_count": 56,
      "outputs": [
        {
          "output_type": "stream",
          "name": "stderr",
          "text": [
            "*c* argument looks like a single numeric RGB or RGBA sequence, which should be avoided as value-mapping will have precedence in case its length matches with *x* & *y*.  Please use the *color* keyword-argument or provide a 2-D array with a single row if you intend to specify the same RGB or RGBA value for all points.\n",
            "*c* argument looks like a single numeric RGB or RGBA sequence, which should be avoided as value-mapping will have precedence in case its length matches with *x* & *y*.  Please use the *color* keyword-argument or provide a 2-D array with a single row if you intend to specify the same RGB or RGBA value for all points.\n"
          ]
        },
        {
          "output_type": "display_data",
          "data": {
            "image/png": "[encoded data removed]",
            "text/plain": [
              "<Figure size 432x288 with 1 Axes>"
            ]
          },
          "metadata": {
            "needs_background": "light"
          }
        }
      ]
    }
  ]
}