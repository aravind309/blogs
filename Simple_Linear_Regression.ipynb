{
  "nbformat": 4,
  "nbformat_minor": 0,
  "metadata": {
    "colab": {
      "name": "Simple_Linear_Regression.ipynb",
      "provenance": [],
      "authorship_tag": "ABX9TyOoJmSUil40CyM9Iwf20j2Y",
      "include_colab_link": true
    },
    "kernelspec": {
      "name": "python3",
      "display_name": "Python 3"
    },
    "language_info": {
      "name": "python"
    }
  },
  "cells": [
    {
      "cell_type": "markdown",
      "metadata": {
        "id": "view-in-github",
        "colab_type": "text"
      },
      "source": [
        "<a href=\"https://colab.research.google.com/github/aravind309/blogs/blob/main/Simple_Linear_Regression.ipynb\" target=\"_parent\"><img src=\"https://colab.research.google.com/assets/colab-badge.svg\" alt=\"Open In Colab\"/></a>"
      ]
    },
    {
      "cell_type": "markdown",
      "source": [
        "\n",
        "**Importing** **Libraries**\n",
        "---\n",
        "\n",
        "NumPy is used to perform a  variety of mathematical operations on arrays. It adds powerful data structures to Python that guarantee efficient calculations with arrays and matrices.\n",
        "\n",
        "Scikit-learn (Sklearn) is the most useful and robust library for machine learning in Python. It provides a selection of efficient tools for machine learning and statistical modeling including classification, regression, clustering and dimensionality reduction via a consistence interface in Python."
      ],
      "metadata": {
        "id": "VqTzQqud9fAJ"
      }
    },
    {
      "cell_type": "code",
      "execution_count": 29,
      "metadata": {
        "id": "mzf-Pogr36Yk"
      },
      "outputs": [],
      "source": [
        "import numpy as np\n",
        "from sklearn.linear_model import LinearRegression"
      ]
    },
    {
      "cell_type": "markdown",
      "source": [
        "**Input of train dataset**\n",
        "\n",
        "Input(Independent variables) are defined as 2d arrays. 2d arrays indicate that input has 2 features. In other words output y is dependent on 2 features"
      ],
      "metadata": {
        "id": "GbjhqlfpEJXU"
      }
    },
    {
      "cell_type": "code",
      "source": [
        "X = np.array([[1, 1], [2, 2], [3, 3], [4, 4]])\n",
        "X"
      ],
      "metadata": {
        "colab": {
          "base_uri": "https://localhost:8080/"
        },
        "id": "2Q2-_HwU4wTK",
        "outputId": "20e47c75-afce-48b0-dd6f-c6a2f44b63b0"
      },
      "execution_count": 30,
      "outputs": [
        {
          "output_type": "execute_result",
          "data": {
            "text/plain": [
              "array([[1, 1],\n",
              "       [2, 2],\n",
              "       [3, 3],\n",
              "       [4, 4]])"
            ]
          },
          "metadata": {},
          "execution_count": 30
        }
      ]
    },
    {
      "cell_type": "markdown",
      "source": [
        "**Output of train dataset**\n",
        "\n",
        "Out output Y is defined as a linear function of f. Let us assume for time being that Y can be calulated as y = 1 * x0 + 2 * x1 + 3. Note that this computation is just to replicate the train dataset. In real world our machine learing will predict these values using the train dataset"
      ],
      "metadata": {
        "id": "fX4e2JNP5E1P"
      }
    },
    {
      "cell_type": "code",
      "source": [
        "y = np.dot(X, np.array([1, 2]) ) + 2\n",
        "y"
      ],
      "metadata": {
        "colab": {
          "base_uri": "https://localhost:8080/"
        },
        "id": "OLq7OQMe5Dem",
        "outputId": "a6ce5ccc-7724-47e7-87d4-e6a9bd004911"
      },
      "execution_count": 31,
      "outputs": [
        {
          "output_type": "execute_result",
          "data": {
            "text/plain": [
              "array([ 5,  8, 11, 14])"
            ]
          },
          "metadata": {},
          "execution_count": 31
        }
      ]
    },
    {
      "cell_type": "markdown",
      "source": [
        "\n",
        "**Fit train data to Linear Regression curve**\n",
        "\n",
        "LinearRegression fits a linear model with coefficients w = (w1, …, wp) to minimize the residual sum of squares between the observed targets in the dataset, and the targets predicted by the linear approximation."
      ],
      "metadata": {
        "id": "Nzr1qONjEdyX"
      }
    },
    {
      "cell_type": "code",
      "source": [
        "reg = LinearRegression().fit(X, y)"
      ],
      "metadata": {
        "id": "8cqt8N455zL6"
      },
      "execution_count": 32,
      "outputs": []
    },
    {
      "cell_type": "markdown",
      "source": [
        "**Prediction on our test data**\n",
        "\n",
        "Above trained regression will be used to predict the output on test data. Here our test data is [5, 5]"
      ],
      "metadata": {
        "id": "2mPH3qknFtqZ"
      }
    },
    {
      "cell_type": "code",
      "source": [
        "reg.predict(np.array([[5, 5]]))"
      ],
      "metadata": {
        "colab": {
          "base_uri": "https://localhost:8080/"
        },
        "id": "oY4b21ge6mHs",
        "outputId": "bbad29fe-0565-4dae-cd02-33b0ba1dbd37"
      },
      "execution_count": 33,
      "outputs": [
        {
          "output_type": "execute_result",
          "data": {
            "text/plain": [
              "array([17.])"
            ]
          },
          "metadata": {},
          "execution_count": 33
        }
      ]
    },
    {
      "cell_type": "markdown",
      "source": [
        "**Printing the cofficients**\n",
        "\n",
        "coef_array of shape (n_features, )\n",
        "Estimated coefficients for the linear regression problem. In our case we passed two features, so we get two weights w0, w1. \n",
        "\n",
        "intercept_ It is the Independent term in the linear model. In other words it is the constant number we added to our Input.\n"
      ],
      "metadata": {
        "id": "zmiZV2FGGFOn"
      }
    },
    {
      "cell_type": "code",
      "source": [
        "print(\"Weights : \", reg.coef_)"
      ],
      "metadata": {
        "colab": {
          "base_uri": "https://localhost:8080/"
        },
        "id": "3BhWuW6n7CRG",
        "outputId": "407e87c8-751e-4b74-be81-8c004569f663"
      },
      "execution_count": 34,
      "outputs": [
        {
          "output_type": "stream",
          "name": "stdout",
          "text": [
            "Weights :  [1.5 1.5]\n"
          ]
        }
      ]
    },
    {
      "cell_type": "code",
      "source": [
        "print(\" Intercept : \", reg.intercept_)"
      ],
      "metadata": {
        "colab": {
          "base_uri": "https://localhost:8080/"
        },
        "id": "CkR0v_bq8RAG",
        "outputId": "3e709bf3-c357-4e74-ad05-a4a9ff31cdce"
      },
      "execution_count": 35,
      "outputs": [
        {
          "output_type": "stream",
          "name": "stdout",
          "text": [
            " Intercept :  2.0000000000000018\n"
          ]
        }
      ]
    }
  ]
}