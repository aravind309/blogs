{
  "nbformat": 4,
  "nbformat_minor": 0,
  "metadata": {
    "colab": {
      "name": "Simple_Linear_Regression.ipynb",
      "provenance": [],
      "toc_visible": true,
      "authorship_tag": "ABX9TyOeeB6x7l1HMM5qCMwWFI5M",
      "include_colab_link": true
    },
    "kernelspec": {
      "name": "python3",
      "display_name": "Python 3"
    },
    "language_info": {
      "name": "python"
    }
  },
  "cells": [
    {
      "cell_type": "markdown",
      "metadata": {
        "id": "view-in-github",
        "colab_type": "text"
      },
      "source": [
        "<a href=\"https://colab.research.google.com/github/aravind309/blogs/blob/main/Simple_Linear_Regression.ipynb\" target=\"_parent\"><img src=\"https://colab.research.google.com/assets/colab-badge.svg\" alt=\"Open In Colab\"/></a>"
      ]
    },
    {
      "cell_type": "markdown",
      "source": [
        "# Importing Libraries"
      ],
      "metadata": {
        "id": "wrAjCCW7rLhj"
      }
    },
    {
      "cell_type": "markdown",
      "source": [
        "NumPy is used to perform a  variety of mathematical operations on arrays. It adds powerful data structures to Python that guarantee efficient calculations with arrays and matrices.\n",
        "\n",
        "Scikit-learn (Sklearn) is the most useful and robust library for machine learning in Python. It provides a selection of efficient tools for machine learning and statistical modeling including classification, regression, clustering and dimensionality reduction via a consistence interface in Python."
      ],
      "metadata": {
        "id": "VqTzQqud9fAJ"
      }
    },
    {
      "cell_type": "code",
      "execution_count": 1,
      "metadata": {
        "id": "mzf-Pogr36Yk"
      },
      "outputs": [],
      "source": [
        "import numpy as np\n",
        "from sklearn.linear_model import LinearRegression"
      ]
    },
    {
      "cell_type": "markdown",
      "source": [
        "# Dataset preperation"
      ],
      "metadata": {
        "id": "9fB8je1mrdxC"
      }
    },
    {
      "cell_type": "markdown",
      "source": [
        "**Input of train dataset**\n",
        "\n",
        "Input(Independent variables) are defined as 2d arrays. 2d arrays indicate that input has 2 features. In other words output y is dependent on 2 features"
      ],
      "metadata": {
        "id": "GbjhqlfpEJXU"
      }
    },
    {
      "cell_type": "code",
      "source": [
        "X = np.array([[1, 1], [2, 2], [3, 3], [4, 4]])\n",
        "X"
      ],
      "metadata": {
        "colab": {
          "base_uri": "https://localhost:8080/"
        },
        "id": "2Q2-_HwU4wTK",
        "outputId": "1b37939f-525d-403d-f5e8-8ab281dc0a41"
      },
      "execution_count": 2,
      "outputs": [
        {
          "output_type": "execute_result",
          "data": {
            "text/plain": [
              "array([[1, 1],\n",
              "       [2, 2],\n",
              "       [3, 3],\n",
              "       [4, 4]])"
            ]
          },
          "metadata": {},
          "execution_count": 2
        }
      ]
    },
    {
      "cell_type": "markdown",
      "source": [
        "**Output of train dataset**\n",
        "\n",
        "Out output Y is defined as a linear function of f. Let us assume for time being that Y can be calulated as y = 1 * x0 + 2 * x1 + 3. Note that this computation is just to replicate the train dataset. In real world our machine learing will predict these values using the train dataset"
      ],
      "metadata": {
        "id": "fX4e2JNP5E1P"
      }
    },
    {
      "cell_type": "code",
      "source": [
        "y = np.dot(X, np.array([1, 2]) ) + 2\n",
        "y"
      ],
      "metadata": {
        "colab": {
          "base_uri": "https://localhost:8080/"
        },
        "id": "OLq7OQMe5Dem",
        "outputId": "bbd833c8-a2f3-4f66-cc0e-a15d18806706"
      },
      "execution_count": 3,
      "outputs": [
        {
          "output_type": "execute_result",
          "data": {
            "text/plain": [
              "array([ 5,  8, 11, 14])"
            ]
          },
          "metadata": {},
          "execution_count": 3
        }
      ]
    },
    {
      "cell_type": "markdown",
      "source": [
        "# Training Model"
      ],
      "metadata": {
        "id": "j6XsHqyHr52d"
      }
    },
    {
      "cell_type": "markdown",
      "source": [
        "\n",
        "**Fit train data to Linear Regression curve**\n",
        "\n",
        "LinearRegression fits a linear model with coefficients w = (w1, …, wp) to minimize the residual sum of squares between the observed targets in the dataset, and the targets predicted by the linear approximation."
      ],
      "metadata": {
        "id": "Nzr1qONjEdyX"
      }
    },
    {
      "cell_type": "code",
      "source": [
        "reg = LinearRegression().fit(X, y)"
      ],
      "metadata": {
        "id": "8cqt8N455zL6"
      },
      "execution_count": 4,
      "outputs": []
    },
    {
      "cell_type": "markdown",
      "source": [
        "# Prediction on test data"
      ],
      "metadata": {
        "id": "IR_U5bZ4r_tx"
      }
    },
    {
      "cell_type": "markdown",
      "source": [
        "Above trained regression will be used to predict the output on test data. Here our test data is [5, 5]"
      ],
      "metadata": {
        "id": "2mPH3qknFtqZ"
      }
    },
    {
      "cell_type": "code",
      "source": [
        "reg.predict(np.array([[5, 5]]))"
      ],
      "metadata": {
        "colab": {
          "base_uri": "https://localhost:8080/"
        },
        "id": "oY4b21ge6mHs",
        "outputId": "c527cfe9-5743-4151-b60e-adcea73b613e"
      },
      "execution_count": 5,
      "outputs": [
        {
          "output_type": "execute_result",
          "data": {
            "text/plain": [
              "array([17.])"
            ]
          },
          "metadata": {},
          "execution_count": 5
        }
      ]
    },
    {
      "cell_type": "markdown",
      "source": [
        "# Printing model cofficients"
      ],
      "metadata": {
        "id": "kMAzaO3MsI3w"
      }
    },
    {
      "cell_type": "markdown",
      "source": [
        "coef_array of shape (n_features, )\n",
        "Estimated coefficients for the linear regression problem. In our case we passed two features, so we get two weights w0, w1. \n",
        "\n",
        "intercept_ It is the Independent term in the linear model. In other words it is the constant number we added to our Input.\n"
      ],
      "metadata": {
        "id": "zmiZV2FGGFOn"
      }
    },
    {
      "cell_type": "code",
      "source": [
        "print(\"Weights : \", reg.coef_)"
      ],
      "metadata": {
        "colab": {
          "base_uri": "https://localhost:8080/"
        },
        "id": "3BhWuW6n7CRG",
        "outputId": "e82c0bc5-97f6-44cc-b034-824d5ea0d476"
      },
      "execution_count": 6,
      "outputs": [
        {
          "output_type": "stream",
          "name": "stdout",
          "text": [
            "Weights :  [1.5 1.5]\n"
          ]
        }
      ]
    },
    {
      "cell_type": "code",
      "source": [
        "print(\" Intercept : \", reg.intercept_)"
      ],
      "metadata": {
        "colab": {
          "base_uri": "https://localhost:8080/"
        },
        "id": "CkR0v_bq8RAG",
        "outputId": "346f766b-79d6-4afe-91f1-ca202822b486"
      },
      "execution_count": 7,
      "outputs": [
        {
          "output_type": "stream",
          "name": "stdout",
          "text": [
            " Intercept :  2.0000000000000018\n"
          ]
        }
      ]
    }
  ]
}